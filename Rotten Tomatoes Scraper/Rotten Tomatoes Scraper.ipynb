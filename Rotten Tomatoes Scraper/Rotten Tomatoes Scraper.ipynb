{
 "cells": [
  {
   "cell_type": "markdown",
   "metadata": {},
   "source": [
    "# Set up"
   ]
  },
  {
   "cell_type": "code",
   "execution_count": 95,
   "metadata": {},
   "outputs": [],
   "source": [
    "# imports\n",
    "import requests\n",
    "from bs4 import BeautifulSoup\n",
    "import pandas as pd\n",
    "\n",
    "# configurations\n",
    "pd.set_option('display.max_colwidth', -1)"
   ]
  },
  {
   "cell_type": "code",
   "execution_count": 2,
   "metadata": {},
   "outputs": [],
   "source": [
    "# initial set up\n",
    "base_url = \"https://editorial.rottentomatoes.com/guide/140-essential-action-movies-to-watch-now/2/\"\n",
    "response = requests.get(base_url)\n",
    "html = response.content\n",
    "soup = BeautifulSoup(html, 'lxml')"
   ]
  },
  {
   "cell_type": "code",
   "execution_count": 3,
   "metadata": {},
   "outputs": [],
   "source": [
    "# export html source code to a file\n",
    "with open(\"140 Action Movies_Rotten Tomatoes.html\",\"wb\") as file:\n",
    "    file.write(soup.prettify(\"utf-8\"))"
   ]
  },
  {
   "source": [
    "# Extract"
   ],
   "cell_type": "markdown",
   "metadata": {}
  },
  {
   "cell_type": "code",
   "execution_count": 5,
   "metadata": {},
   "outputs": [],
   "source": [
    "# element with content\n",
    "all_div = soup.find_all(\"div\",{\"class\":\"col-sm-18 col-full-xs countdown-item-content\"})"
   ]
  },
  {
   "cell_type": "code",
   "execution_count": 7,
   "metadata": {},
   "outputs": [],
   "source": [
    "headings = [div.find(\"h2\") for div in all_div]"
   ]
  },
  {
   "cell_type": "code",
   "execution_count": 11,
   "metadata": {},
   "outputs": [
    {
     "output_type": "execute_result",
     "data": {
      "text/plain": [
       "<h2><a href=\"https://www.rottentomatoes.com/m/1018009-running_scared/\">Running Scared</a> <span class=\"subtle start-year\">(1986)</span> <span class=\"icon tiny rotten\" title=\"Rotten\"></span> <span class=\"tMeterScore\">57%</span></h2>"
      ]
     },
     "metadata": {},
     "execution_count": 11
    }
   ],
   "source": [
    "headings[0]"
   ]
  },
  {
   "cell_type": "code",
   "execution_count": 28,
   "metadata": {},
   "outputs": [
    {
     "output_type": "stream",
     "name": "stdout",
     "text": [
      "140\nRunning Scared\n"
     ]
    }
   ],
   "source": [
    "# Title\n",
    "movie_titles = [heading.find(\"a\").text for heading in headings]\n",
    "print(len(movie_titles))\n",
    "print(movie_titles[0])"
   ]
  },
  {
   "cell_type": "code",
   "execution_count": 38,
   "metadata": {},
   "outputs": [
    {
     "output_type": "stream",
     "name": "stdout",
     "text": [
      "140\n(1986)\n1986\n1986\n"
     ]
    }
   ],
   "source": [
    "# Years\n",
    "years = [heading.find(\"span\", {\"class\":\"subtle start-year\"}).text for heading in headings]\n",
    "print(len(years))\n",
    "print(years[0])                                 # we need to remove the \"(\" & \")\" symbols\n",
    "print(years[0].strip(\"()\"))                     # clean text\n",
    "years = [year.strip(\"()\") for year in years]    # clean all year symbols\n",
    "years = [int(year) for year in years]           # convert data type into int\n",
    "print(years[0])"
   ]
  },
  {
   "cell_type": "code",
   "execution_count": 44,
   "metadata": {},
   "outputs": [
    {
     "output_type": "stream",
     "name": "stdout",
     "text": [
      "57%\n140\n"
     ]
    }
   ],
   "source": [
    "# Score\n",
    "scores = [heading.find(\"span\",{\"class\":\"tMeterScore\"}).text for heading in headings]\n",
    "print(scores[0])\n",
    "print(len(scores))"
   ]
  },
  {
   "cell_type": "code",
   "execution_count": 90,
   "metadata": {},
   "outputs": [
    {
     "output_type": "stream",
     "name": "stdout",
     "text": [
      "58.22%\n140\n"
     ]
    }
   ],
   "source": [
    "# Adjusted Score\n",
    "adj_scores = [div.find(\"div\", {\"class\":\"info countdown-adjusted-score\"}).text for div in all_div]\n",
    "adj_scores = [s.replace(\"Adjusted Score: \",\"\").strip(\" \") for s in adj_scores]      # clean text\n",
    "print(adj_scores[0])\n",
    "print(len(adj_scores))"
   ]
  },
  {
   "cell_type": "code",
   "execution_count": 69,
   "metadata": {},
   "outputs": [
    {
     "output_type": "stream",
     "name": "stdout",
     "text": [
      "Running Scared struggles to strike a consistent balance between violent action and humor, but the chemistry between its well-matched leads keeps things entertaining.\n140\n"
     ]
    }
   ],
   "source": [
    "# Critics Consensus\n",
    "critics_consensus = [div.find(\"div\",{\"class\":\"info critics-consensus\"}).text for div in all_div]\n",
    "critics_consensus = [con.replace(\"Critics Consensus: \",\"\") for con in critics_consensus]   # clean text\n",
    "print(critics_consensus[0])\n",
    "print(len(critics_consensus))"
   ]
  },
  {
   "cell_type": "code",
   "execution_count": 102,
   "metadata": {},
   "outputs": [
    {
     "output_type": "stream",
     "name": "stdout",
     "text": [
      "140\nDistinguished by a sharp, witty dialogue between its two cop protagonists, Ray and Danny (Gregory Hines and Billy Crystal), this...\n"
     ]
    }
   ],
   "source": [
    "# Synopsis\n",
    "synopsis = [div.find(\"div\", {\"class\":\"info synopsis\"}).text for div in all_div]\n",
    "synopsis = [syn.replace(\"Synopsis: \",\"\").replace(\" [More]\",\"\") for syn in synopsis]   # clean text\n",
    "print(len(synopsis))\n",
    "print(synopsis[0])"
   ]
  },
  {
   "cell_type": "code",
   "execution_count": 80,
   "metadata": {},
   "outputs": [
    {
     "output_type": "stream",
     "name": "stdout",
     "text": [
      "140\nGregory Hines, Billy Crystal, Jimmy Smits, Steven Bauer\n"
     ]
    }
   ],
   "source": [
    "# Cast\n",
    "cast = [div.find(\"div\", {\"class\":\"info cast\"}).text for div in all_div]\n",
    "cast = [c.replace(\"\\nStarring: \",\"\") for c in cast]     # clean text\n",
    "print(len(cast))\n",
    "print(cast[0])"
   ]
  },
  {
   "cell_type": "code",
   "execution_count": 76,
   "metadata": {},
   "outputs": [
    {
     "output_type": "stream",
     "name": "stdout",
     "text": [
      "140\nPeter Hyams\n"
     ]
    }
   ],
   "source": [
    "# Directors\n",
    "directors = [div.find(\"div\", {\"class\":\"info director\"}).text for div in all_div]\n",
    "directors = [director.replace(\"\\nDirected By: \",\"\") for director in directors]   # clean text\n",
    "print(len(directors))\n",
    "print(directors[0])"
   ]
  },
  {
   "cell_type": "code",
   "execution_count": 92,
   "metadata": {},
   "outputs": [
    {
     "output_type": "stream",
     "name": "stdout",
     "text": [
      "140\n136\n"
     ]
    }
   ],
   "source": [
    "# Rank\n",
    "ranks = [div.find(\"div\", {\"class\":\"countdown-index\"}).text for div in all_div]\n",
    "ranks = [rank.replace(\"#\",\"\") for rank in ranks]    # clean text\n",
    "print(len(ranks))\n",
    "print(ranks[4])"
   ]
  },
  {
   "source": [
    "# Store data in structured form"
   ],
   "cell_type": "markdown",
   "metadata": {}
  },
  {
   "cell_type": "code",
   "execution_count": 103,
   "metadata": {},
   "outputs": [],
   "source": [
    "# create dataframe\n",
    "rotten_tomatoes = pd.DataFrame()\n",
    "\n",
    "# store data in dataframe\n",
    "rotten_tomatoes[\"Movie_Title\"] = movie_titles\n",
    "rotten_tomatoes[\"Rank\"] = ranks\n",
    "rotten_tomatoes[\"Year\"] = years\n",
    "rotten_tomatoes[\"Score\"] = scores\n",
    "rotten_tomatoes[\"Adjusted_Score\"] = adj_scores\n",
    "rotten_tomatoes[\"Director\"] = directors\n",
    "rotten_tomatoes[\"Cast\"] = cast\n",
    "rotten_tomatoes[\"Critics_Consensus\"] = critics_consensus\n",
    "rotten_tomatoes[\"Synopsis\"] = synopsis"
   ]
  },
  {
   "cell_type": "code",
   "execution_count": 104,
   "metadata": {},
   "outputs": [
    {
     "output_type": "execute_result",
     "data": {
      "text/plain": [
       "                        Movie_Title Rank  Year Score Adjusted_Score  \\\n",
       "0    Running Scared                  140  1986  57%   58.22%          \n",
       "1    Equilibrium                     139  2002  41%   43.025%         \n",
       "2    Hero                            138  2004  95%   100.865%        \n",
       "3    Road House                      137  1989  39%   41.989%         \n",
       "4    Unstoppable                     136  2010  87%   92.685%         \n",
       "..           ...                     ...   ...  ...       ...         \n",
       "135  Lat sau san taam (Hard-Boiled)  5    1992  94%   96.11%          \n",
       "136  The Matrix                      4    1999  88%   94.881%         \n",
       "137  Terminator 2: Judgment Day      3    1991  93%   99.169%         \n",
       "138  Die Hard                        2    1988  94%   99.708%         \n",
       "139  Mad Max: Fury Road              1    2015  97%   113.96%         \n",
       "\n",
       "                            Director  \\\n",
       "0    Peter Hyams                       \n",
       "1    Kurt Wimmer                       \n",
       "2    Zhang Yimou                       \n",
       "3    Rowdy Herrington                  \n",
       "4    Tony Scott                        \n",
       "..          ...                        \n",
       "135  John Woo                          \n",
       "136  Lilly Wachowski, Lana Wachowski   \n",
       "137  James Cameron                     \n",
       "138  John McTiernan                    \n",
       "139  George Miller                     \n",
       "\n",
       "                                                                      Cast  \\\n",
       "0    Gregory Hines, Billy Crystal, Jimmy Smits, Steven Bauer                 \n",
       "1    Christian Bale, Emily Watson, Taye Diggs, Angus Macfadyen               \n",
       "2    Jet Li, Tony Leung Chiu Wai, Maggie Cheung, Daoming Chen                \n",
       "3    Patrick Swayze, Kelly Lynch, Sam Elliott, Ben Gazzara                   \n",
       "4    Denzel Washington, Chris Pine, Rosario Dawson, Ethan Suplee             \n",
       "..                                                           ...             \n",
       "135  Yun-Fat Chow, Tony Leung Chiu Wai, Anthony Wong, Teresa Mo              \n",
       "136  Keanu Reeves, Laurence Fishburne, Carrie-Anne Moss, Joe Pantoliano      \n",
       "137  Arnold Schwarzenegger, Linda Hamilton, Edward Furlong, Robert Patrick   \n",
       "138  Bruce Willis, Alan Rickman, Reginald VelJohnson, Bonnie Bedelia         \n",
       "139  Tom Hardy, Charlize Theron, Nicholas Hoult, Rosie Huntington-Whiteley   \n",
       "\n",
       "                                                                                                                                                                           Critics_Consensus  \\\n",
       "0    Running Scared struggles to strike a consistent balance between violent action and humor, but the chemistry between its well-matched leads keeps things entertaining.                     \n",
       "1    Equilibrium is a reheated mishmash of other sci-fi movies.                                                                                                                                \n",
       "2    With death-defying action sequences and epic historic sweep, Hero offers everything a martial arts fan could ask for.                                                                     \n",
       "3    Whether Road House is simply bad or so bad it's good depends largely on the audience's fondness for Swayze -- and tolerance for violently cheesy action.                                  \n",
       "4    As fast, loud, and relentless as the train at the center of the story, Unstoppable is perfect popcorn entertainment -- and director Tony Scott's best movie in years.                     \n",
       "..                                                                                                                                                                     ...                     \n",
       "135  Boasting impactful action as well as surprising emotional resonance, Hard Boiled is a powerful thriller that hits hard in more ways than one.                                             \n",
       "136  Thanks to the Wachowskis' imaginative vision, The Matrix is a smartly crafted combination of spectacular action and groundbreaking special effects.                                       \n",
       "137  T2 features thrilling action sequences and eye-popping visual effects, but what takes this sci-fi/ action landmark to the next level is the depth of the human (and cyborg) characters.   \n",
       "138  Its many imitators (and sequels) have never come close to matching the taut thrills of the definitive holiday action classic.                                                             \n",
       "139  With exhilarating action and a surprising amount of narrative heft, Mad Max: Fury Road brings George Miller's post-apocalyptic franchise roaring vigorously back to life.                 \n",
       "\n",
       "                                                                                                                                            Synopsis  \n",
       "0    Distinguished by a sharp, witty dialogue between its two cop protagonists, Ray and Danny (Gregory Hines and Billy Crystal), this...              \n",
       "1    In the nation of Libria, there is always peace among men. The rules of the Librian system are simple. If...                                      \n",
       "2    Hero is two-time Academy Award nominee Zhang Yimou's directorial attempt at exploring the concept of a Chinese hero. During the...               \n",
       "3    Dalton (Swayze) is a true gentleman with a degree in philosophy from NYU. He also has a flip side -...                                           \n",
       "4    In this action thriller from director Tony Scott, rookie train operator Will (Chris Pine) and grizzled veteran engineer Frank (Denzel...         \n",
       "..                                                                                                                                        ...         \n",
       "135  Yun-Fat portrays a maverick, clarinet-playing cop nicknamed \"Tequila\" whose partner is killed in the dizzying chaos of a restaurant gunfight...  \n",
       "136  What if virtual reality wasn't just for fun, but was being used to imprison you? That's the dilemma that faces...                                \n",
       "137  A sequel to the sci-fi action thriller that made him and star Arnold Schwarzenegger A-list Hollywood names, writer/director James Cameron...     \n",
       "138  It's Christmas time in L.A., and there's an employee party in progress on the 30th floor of the Nakatomi Corporation...                          \n",
       "139  Filmmaker George Miller gears up for another post-apocalyptic action adventure with Fury Road, the fourth outing in the Mad Max...               \n",
       "\n",
       "[140 rows x 9 columns]"
      ],
      "text/html": "<div>\n<style scoped>\n    .dataframe tbody tr th:only-of-type {\n        vertical-align: middle;\n    }\n\n    .dataframe tbody tr th {\n        vertical-align: top;\n    }\n\n    .dataframe thead th {\n        text-align: right;\n    }\n</style>\n<table border=\"1\" class=\"dataframe\">\n  <thead>\n    <tr style=\"text-align: right;\">\n      <th></th>\n      <th>Movie_Title</th>\n      <th>Rank</th>\n      <th>Year</th>\n      <th>Score</th>\n      <th>Adjusted_Score</th>\n      <th>Director</th>\n      <th>Cast</th>\n      <th>Critics_Consensus</th>\n      <th>Synopsis</th>\n    </tr>\n  </thead>\n  <tbody>\n    <tr>\n      <th>0</th>\n      <td>Running Scared</td>\n      <td>140</td>\n      <td>1986</td>\n      <td>57%</td>\n      <td>58.22%</td>\n      <td>Peter Hyams</td>\n      <td>Gregory Hines, Billy Crystal, Jimmy Smits, Steven Bauer</td>\n      <td>Running Scared struggles to strike a consistent balance between violent action and humor, but the chemistry between its well-matched leads keeps things entertaining.</td>\n      <td>Distinguished by a sharp, witty dialogue between its two cop protagonists, Ray and Danny (Gregory Hines and Billy Crystal), this...</td>\n    </tr>\n    <tr>\n      <th>1</th>\n      <td>Equilibrium</td>\n      <td>139</td>\n      <td>2002</td>\n      <td>41%</td>\n      <td>43.025%</td>\n      <td>Kurt Wimmer</td>\n      <td>Christian Bale, Emily Watson, Taye Diggs, Angus Macfadyen</td>\n      <td>Equilibrium is a reheated mishmash of other sci-fi movies.</td>\n      <td>In the nation of Libria, there is always peace among men. The rules of the Librian system are simple. If...</td>\n    </tr>\n    <tr>\n      <th>2</th>\n      <td>Hero</td>\n      <td>138</td>\n      <td>2004</td>\n      <td>95%</td>\n      <td>100.865%</td>\n      <td>Zhang Yimou</td>\n      <td>Jet Li, Tony Leung Chiu Wai, Maggie Cheung, Daoming Chen</td>\n      <td>With death-defying action sequences and epic historic sweep, Hero offers everything a martial arts fan could ask for.</td>\n      <td>Hero is two-time Academy Award nominee Zhang Yimou's directorial attempt at exploring the concept of a Chinese hero. During the...</td>\n    </tr>\n    <tr>\n      <th>3</th>\n      <td>Road House</td>\n      <td>137</td>\n      <td>1989</td>\n      <td>39%</td>\n      <td>41.989%</td>\n      <td>Rowdy Herrington</td>\n      <td>Patrick Swayze, Kelly Lynch, Sam Elliott, Ben Gazzara</td>\n      <td>Whether Road House is simply bad or so bad it's good depends largely on the audience's fondness for Swayze -- and tolerance for violently cheesy action.</td>\n      <td>Dalton (Swayze) is a true gentleman with a degree in philosophy from NYU. He also has a flip side -...</td>\n    </tr>\n    <tr>\n      <th>4</th>\n      <td>Unstoppable</td>\n      <td>136</td>\n      <td>2010</td>\n      <td>87%</td>\n      <td>92.685%</td>\n      <td>Tony Scott</td>\n      <td>Denzel Washington, Chris Pine, Rosario Dawson, Ethan Suplee</td>\n      <td>As fast, loud, and relentless as the train at the center of the story, Unstoppable is perfect popcorn entertainment -- and director Tony Scott's best movie in years.</td>\n      <td>In this action thriller from director Tony Scott, rookie train operator Will (Chris Pine) and grizzled veteran engineer Frank (Denzel...</td>\n    </tr>\n    <tr>\n      <th>...</th>\n      <td>...</td>\n      <td>...</td>\n      <td>...</td>\n      <td>...</td>\n      <td>...</td>\n      <td>...</td>\n      <td>...</td>\n      <td>...</td>\n      <td>...</td>\n    </tr>\n    <tr>\n      <th>135</th>\n      <td>Lat sau san taam (Hard-Boiled)</td>\n      <td>5</td>\n      <td>1992</td>\n      <td>94%</td>\n      <td>96.11%</td>\n      <td>John Woo</td>\n      <td>Yun-Fat Chow, Tony Leung Chiu Wai, Anthony Wong, Teresa Mo</td>\n      <td>Boasting impactful action as well as surprising emotional resonance, Hard Boiled is a powerful thriller that hits hard in more ways than one.</td>\n      <td>Yun-Fat portrays a maverick, clarinet-playing cop nicknamed \"Tequila\" whose partner is killed in the dizzying chaos of a restaurant gunfight...</td>\n    </tr>\n    <tr>\n      <th>136</th>\n      <td>The Matrix</td>\n      <td>4</td>\n      <td>1999</td>\n      <td>88%</td>\n      <td>94.881%</td>\n      <td>Lilly Wachowski, Lana Wachowski</td>\n      <td>Keanu Reeves, Laurence Fishburne, Carrie-Anne Moss, Joe Pantoliano</td>\n      <td>Thanks to the Wachowskis' imaginative vision, The Matrix is a smartly crafted combination of spectacular action and groundbreaking special effects.</td>\n      <td>What if virtual reality wasn't just for fun, but was being used to imprison you? That's the dilemma that faces...</td>\n    </tr>\n    <tr>\n      <th>137</th>\n      <td>Terminator 2: Judgment Day</td>\n      <td>3</td>\n      <td>1991</td>\n      <td>93%</td>\n      <td>99.169%</td>\n      <td>James Cameron</td>\n      <td>Arnold Schwarzenegger, Linda Hamilton, Edward Furlong, Robert Patrick</td>\n      <td>T2 features thrilling action sequences and eye-popping visual effects, but what takes this sci-fi/ action landmark to the next level is the depth of the human (and cyborg) characters.</td>\n      <td>A sequel to the sci-fi action thriller that made him and star Arnold Schwarzenegger A-list Hollywood names, writer/director James Cameron...</td>\n    </tr>\n    <tr>\n      <th>138</th>\n      <td>Die Hard</td>\n      <td>2</td>\n      <td>1988</td>\n      <td>94%</td>\n      <td>99.708%</td>\n      <td>John McTiernan</td>\n      <td>Bruce Willis, Alan Rickman, Reginald VelJohnson, Bonnie Bedelia</td>\n      <td>Its many imitators (and sequels) have never come close to matching the taut thrills of the definitive holiday action classic.</td>\n      <td>It's Christmas time in L.A., and there's an employee party in progress on the 30th floor of the Nakatomi Corporation...</td>\n    </tr>\n    <tr>\n      <th>139</th>\n      <td>Mad Max: Fury Road</td>\n      <td>1</td>\n      <td>2015</td>\n      <td>97%</td>\n      <td>113.96%</td>\n      <td>George Miller</td>\n      <td>Tom Hardy, Charlize Theron, Nicholas Hoult, Rosie Huntington-Whiteley</td>\n      <td>With exhilarating action and a surprising amount of narrative heft, Mad Max: Fury Road brings George Miller's post-apocalyptic franchise roaring vigorously back to life.</td>\n      <td>Filmmaker George Miller gears up for another post-apocalyptic action adventure with Fury Road, the fourth outing in the Mad Max...</td>\n    </tr>\n  </tbody>\n</table>\n<p>140 rows × 9 columns</p>\n</div>"
     },
     "metadata": {},
     "execution_count": 104
    }
   ],
   "source": [
    "rotten_tomatoes"
   ]
  },
  {
   "cell_type": "code",
   "execution_count": 105,
   "metadata": {},
   "outputs": [],
   "source": [
    "# export to csv\n",
    "rotten_tomatoes.to_csv(\"Rotten_Tomatoes.csv\", index=False, header=True)"
   ]
  },
  {
   "source": [
    "___"
   ],
   "cell_type": "markdown",
   "metadata": {}
  }
 ],
 "metadata": {
  "kernelspec": {
   "display_name": "Python 3",
   "language": "python",
   "name": "python3"
  },
  "language_info": {
   "codemirror_mode": {
    "name": "ipython",
    "version": 3
   },
   "file_extension": ".py",
   "mimetype": "text/x-python",
   "name": "python",
   "nbconvert_exporter": "python",
   "pygments_lexer": "ipython3",
   "version": "3.7.6-final"
  }
 },
 "nbformat": 4,
 "nbformat_minor": 4
}